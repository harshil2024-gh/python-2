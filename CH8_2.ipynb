{
 "cells": [
  {
   "cell_type": "code",
   "execution_count": 1,
   "metadata": {},
   "outputs": [],
   "source": [
    "#e1f152b97c19e6f91585e4c5b3191b78"
   ]
  },
  {
   "cell_type": "code",
   "execution_count": 2,
   "metadata": {
    "scrolled": true
   },
   "outputs": [
    {
     "name": "stdout",
     "output_type": "stream",
     "text": [
      "{\n",
      "     \"cod\": 401,\n",
      "     \"message\": \"Invalid API key. Please see https://openweathermap.org/faq#error401 for more info.\"\n",
      "}\n"
     ]
    }
   ],
   "source": [
    "import requests, json\n",
    "def air_pollution():\n",
    "    api_key=\"e1f152b97c19e6f91585e4c5b3191b78\"\n",
    "    lon=72.5797\n",
    "    lat=23.0216\n",
    "    request_url=f\"https://pro.openweathermap.org/data/2.5/forecast/hourly?lat={lat}&lon={lon}&appid={api_key}\"\n",
    "    response=requests.get(request_url)\n",
    "    polute=response.json()\n",
    "    print(json.dumps(polute,indent=5))\n",
    "air_pollution()"
   ]
  },
  {
   "cell_type": "code",
   "execution_count": null,
   "metadata": {},
   "outputs": [],
   "source": []
  },
  {
   "cell_type": "markdown",
   "metadata": {},
   "source": [
    "# TCP\n",
    "    type:socket.SOCK_STREAM"
   ]
  },
  {
   "cell_type": "code",
   "execution_count": 15,
   "metadata": {},
   "outputs": [
    {
     "name": "stdout",
     "output_type": "stream",
     "text": [
      "Overwriting server_TCP.py\n"
     ]
    }
   ],
   "source": [
    "%%writefile server_TCP.py\n",
    "import socket\n",
    "host=socket.gethostname()\n",
    "port=2000\n",
    "Addr=(host,port)\n",
    "server_socket=socket.socket()\n",
    "server_socket.bind(Addr)\n",
    "server_socket.listen()\n",
    "conn,addr=server_socket.accept()\n",
    "print(\"Connection from : \",str(addr))\n",
    "while True:\n",
    "    data=conn.recv(1024).decode()\n",
    "    if not data:\n",
    "        break\n",
    "    print(data)\n",
    "    data=input('->')\n",
    "    conn.send(data.encode())\n",
    "conn.close()"
   ]
  },
  {
   "cell_type": "code",
   "execution_count": 24,
   "metadata": {},
   "outputs": [
    {
     "name": "stdout",
     "output_type": "stream",
     "text": [
      "Overwriting client_TCP.py\n"
     ]
    }
   ],
   "source": [
    "%%writefile client_TCP.py\n",
    "import socket\n",
    "host='192.168.104.23'\n",
    "port=2000\n",
    "client_socket=socket.socket()\n",
    "client_socket.connect((host,port))\n",
    "message=input('->')\n",
    "while message !=\"\":\n",
    "    client_socket.send(message.encode())\n",
    "    data=client_socket.recv(1024).decode()\n",
    "    print(\"Recived from server -> \",data)\n",
    "    message=input('->')\n",
    "client_socket.close()"
   ]
  },
  {
   "cell_type": "code",
   "execution_count": null,
   "metadata": {},
   "outputs": [],
   "source": [
    " "
   ]
  },
  {
   "cell_type": "markdown",
   "metadata": {},
   "source": [
    "# UDP\n",
    "    type:socket.SOCK_DGRAM"
   ]
  },
  {
   "cell_type": "code",
   "execution_count": 25,
   "metadata": {},
   "outputs": [
    {
     "name": "stdout",
     "output_type": "stream",
     "text": [
      "Writing udp_server.py\n"
     ]
    }
   ],
   "source": [
    "%%writefile udp_server.py\n",
    "import socket\n",
    "host=\"\"\n",
    "port=5000\n",
    "udp_server=socket.socket(type=socket.SOCK_DGRAM)\n",
    "udp.server.bind((host,port))\n",
    "while True:\n",
    "    print('Waiting for message...!')\n",
    "    data,addr=udp_server.recvfrom(1024)\n",
    "    print(\"Received : \",data.decode(),' form ',addr)\n",
    "    msg=input(\"Enter Message : \")\n",
    "    udp.server.sendto(msg.encode(),addr)\n",
    "udp_server.close()"
   ]
  },
  {
   "cell_type": "code",
   "execution_count": null,
   "metadata": {},
   "outputs": [],
   "source": [
    "# %%writefile udp_client.py\n",
    "# import socket\n",
    "# host=\"\"\n",
    "# port=5000\n",
    "# udp_server=socket.socket(type=socket.SOCK_DGRAM)\n",
    "# while True:\n",
    "#     print('Waiting for message...!')\n",
    "#     data,addr=udp_server.recvfrom(1024)\n",
    "#     print(\"Received : \",data.decode(),' form ',addr)\n",
    "#     udp.server.sendto(msg.encode(),addr)\n",
    "# udp_server.close()"
   ]
  }
 ],
 "metadata": {
  "kernelspec": {
   "display_name": "Python 3",
   "language": "python",
   "name": "python3"
  },
  "language_info": {
   "codemirror_mode": {
    "name": "ipython",
    "version": 3
   },
   "file_extension": ".py",
   "mimetype": "text/x-python",
   "name": "python",
   "nbconvert_exporter": "python",
   "pygments_lexer": "ipython3",
   "version": "3.8.5"
  }
 },
 "nbformat": 4,
 "nbformat_minor": 4
}
